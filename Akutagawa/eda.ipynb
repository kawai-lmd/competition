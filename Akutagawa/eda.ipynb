{
 "cells": [
  {
   "cell_type": "markdown",
   "id": "7983541e",
   "metadata": {},
   "source": [
    "# 0.データの確認"
   ]
  },
  {
   "cell_type": "code",
   "execution_count": 1,
   "id": "07a525fd",
   "metadata": {},
   "outputs": [
    {
     "name": "stdout",
     "output_type": "stream",
     "text": [
      "eda.ipynb \u001b[1m\u001b[36msrc\u001b[m\u001b[m\r\n"
     ]
    }
   ],
   "source": [
    "!ls"
   ]
  },
  {
   "cell_type": "code",
   "execution_count": 2,
   "id": "31f443d1",
   "metadata": {},
   "outputs": [
    {
     "name": "stdout",
     "output_type": "stream",
     "text": [
      "sample_submission.csv test.csv              train.csv\r\n"
     ]
    }
   ],
   "source": [
    "!ls src"
   ]
  },
  {
   "cell_type": "markdown",
   "id": "e7efa7a7",
   "metadata": {},
   "source": [
    "## 0.1.モジュールのインストール"
   ]
  },
  {
   "cell_type": "code",
   "execution_count": 30,
   "id": "dd623b0c",
   "metadata": {},
   "outputs": [],
   "source": [
    "import pandas as pd\n",
    "import seaborn as sns\n",
    "import matplotlib.pyplot as plt"
   ]
  },
  {
   "cell_type": "code",
   "execution_count": 73,
   "id": "95e5382b",
   "metadata": {},
   "outputs": [],
   "source": [
    "sample_sub_df = pd.read_csv('src/sample_submission.csv', index_col = 0)\n",
    "test_df = pd.read_csv('src/test.csv', index_col = 0)\n",
    "train_df = pd.read_csv('src/train.csv', index_col = 0)"
   ]
  },
  {
   "cell_type": "markdown",
   "id": "1fb9bfd8",
   "metadata": {},
   "source": [
    "## 0.2.csvの先頭確認"
   ]
  },
  {
   "cell_type": "code",
   "execution_count": 21,
   "id": "57f04a8f",
   "metadata": {},
   "outputs": [
    {
     "data": {
      "text/html": [
       "<div>\n",
       "<style scoped>\n",
       "    .dataframe tbody tr th:only-of-type {\n",
       "        vertical-align: middle;\n",
       "    }\n",
       "\n",
       "    .dataframe tbody tr th {\n",
       "        vertical-align: top;\n",
       "    }\n",
       "\n",
       "    .dataframe thead th {\n",
       "        text-align: right;\n",
       "    }\n",
       "</style>\n",
       "<table border=\"1\" class=\"dataframe\">\n",
       "  <thead>\n",
       "    <tr style=\"text-align: right;\">\n",
       "      <th></th>\n",
       "      <th>author</th>\n",
       "    </tr>\n",
       "    <tr>\n",
       "      <th>writing_id</th>\n",
       "      <th></th>\n",
       "    </tr>\n",
       "  </thead>\n",
       "  <tbody>\n",
       "    <tr>\n",
       "      <th>4</th>\n",
       "      <td>0</td>\n",
       "    </tr>\n",
       "    <tr>\n",
       "      <th>5</th>\n",
       "      <td>0</td>\n",
       "    </tr>\n",
       "    <tr>\n",
       "      <th>6</th>\n",
       "      <td>1</td>\n",
       "    </tr>\n",
       "    <tr>\n",
       "      <th>10</th>\n",
       "      <td>1</td>\n",
       "    </tr>\n",
       "    <tr>\n",
       "      <th>11</th>\n",
       "      <td>1</td>\n",
       "    </tr>\n",
       "  </tbody>\n",
       "</table>\n",
       "</div>"
      ],
      "text/plain": [
       "            author\n",
       "writing_id        \n",
       "4                0\n",
       "5                0\n",
       "6                1\n",
       "10               1\n",
       "11               1"
      ]
     },
     "execution_count": 21,
     "metadata": {},
     "output_type": "execute_result"
    }
   ],
   "source": [
    "sample_sub_df.head()"
   ]
  },
  {
   "cell_type": "code",
   "execution_count": 22,
   "id": "0bb62f81",
   "metadata": {},
   "outputs": [
    {
     "data": {
      "text/html": [
       "<div>\n",
       "<style scoped>\n",
       "    .dataframe tbody tr th:only-of-type {\n",
       "        vertical-align: middle;\n",
       "    }\n",
       "\n",
       "    .dataframe tbody tr th {\n",
       "        vertical-align: top;\n",
       "    }\n",
       "\n",
       "    .dataframe thead th {\n",
       "        text-align: right;\n",
       "    }\n",
       "</style>\n",
       "<table border=\"1\" class=\"dataframe\">\n",
       "  <thead>\n",
       "    <tr style=\"text-align: right;\">\n",
       "      <th></th>\n",
       "      <th>body</th>\n",
       "    </tr>\n",
       "    <tr>\n",
       "      <th>writing_id</th>\n",
       "      <th></th>\n",
       "    </tr>\n",
       "  </thead>\n",
       "  <tbody>\n",
       "    <tr>\n",
       "      <th>4</th>\n",
       "      <td>\\r\\n\\r\\n　　　　　一\\r\\n\\r\\n　夕方降り出した雨はその晩遅くまで続いた。しとし...</td>\n",
       "    </tr>\n",
       "    <tr>\n",
       "      <th>5</th>\n",
       "      <td>\\r\\n\\r\\n　この「東北文学」という雑誌の貴重な紙面の端をわずか拝借して申し上げます。ど...</td>\n",
       "    </tr>\n",
       "    <tr>\n",
       "      <th>6</th>\n",
       "      <td>\\r\\n\\r\\n　幼少のころ、高知《こうち》の城下から東に五六里離れた親類の何かの饗宴《きょ...</td>\n",
       "    </tr>\n",
       "    <tr>\n",
       "      <th>10</th>\n",
       "      <td>\\r\\n\\r\\n　　　　　　　　　　　　　○\\r\\n「三人姉妹」で、マーシャがどんな風に活か...</td>\n",
       "    </tr>\n",
       "    <tr>\n",
       "      <th>11</th>\n",
       "      <td>\\r\\n\\r\\n［＃５字下げ］眼鏡［＃「眼鏡」は中見出し］\\r\\n\\r\\n　或日、趣味に関し...</td>\n",
       "    </tr>\n",
       "  </tbody>\n",
       "</table>\n",
       "</div>"
      ],
      "text/plain": [
       "                                                         body\n",
       "writing_id                                                   \n",
       "4           \\r\\n\\r\\n　　　　　一\\r\\n\\r\\n　夕方降り出した雨はその晩遅くまで続いた。しとし...\n",
       "5           \\r\\n\\r\\n　この「東北文学」という雑誌の貴重な紙面の端をわずか拝借して申し上げます。ど...\n",
       "6           \\r\\n\\r\\n　幼少のころ、高知《こうち》の城下から東に五六里離れた親類の何かの饗宴《きょ...\n",
       "10          \\r\\n\\r\\n　　　　　　　　　　　　　○\\r\\n「三人姉妹」で、マーシャがどんな風に活か...\n",
       "11          \\r\\n\\r\\n［＃５字下げ］眼鏡［＃「眼鏡」は中見出し］\\r\\n\\r\\n　或日、趣味に関し..."
      ]
     },
     "execution_count": 22,
     "metadata": {},
     "output_type": "execute_result"
    }
   ],
   "source": [
    "test_df.head()"
   ]
  },
  {
   "cell_type": "code",
   "execution_count": 23,
   "id": "f6db7396",
   "metadata": {},
   "outputs": [
    {
     "data": {
      "text/html": [
       "<div>\n",
       "<style scoped>\n",
       "    .dataframe tbody tr th:only-of-type {\n",
       "        vertical-align: middle;\n",
       "    }\n",
       "\n",
       "    .dataframe tbody tr th {\n",
       "        vertical-align: top;\n",
       "    }\n",
       "\n",
       "    .dataframe thead th {\n",
       "        text-align: right;\n",
       "    }\n",
       "</style>\n",
       "<table border=\"1\" class=\"dataframe\">\n",
       "  <thead>\n",
       "    <tr style=\"text-align: right;\">\n",
       "      <th></th>\n",
       "      <th>body</th>\n",
       "      <th>author</th>\n",
       "    </tr>\n",
       "    <tr>\n",
       "      <th>writing_id</th>\n",
       "      <th></th>\n",
       "      <th></th>\n",
       "    </tr>\n",
       "  </thead>\n",
       "  <tbody>\n",
       "    <tr>\n",
       "      <th>0</th>\n",
       "      <td>\\r\\n　先ごろの本欄に僕の「風報」にかいた「天皇陛下に捧ぐる言葉」を評して俗うけを狙った媚...</td>\n",
       "      <td>0</td>\n",
       "    </tr>\n",
       "    <tr>\n",
       "      <th>1</th>\n",
       "      <td>\\r\\n　旅の眼に映じた外国の正月をといふお需めで、一昔前の記憶から探してみたが、其処にはほ...</td>\n",
       "      <td>0</td>\n",
       "    </tr>\n",
       "    <tr>\n",
       "      <th>2</th>\n",
       "      <td>\\r\\n　或る心持のよい夕方、日比谷公園の樹の繁みの間で、若葉楓の梢を眺めていたら、どこから...</td>\n",
       "      <td>0</td>\n",
       "    </tr>\n",
       "    <tr>\n",
       "      <th>3</th>\n",
       "      <td>\\r\\n\\r\\n［＃３字下げ］一［＃「一」は中見出し］\\r\\n\\r\\n　島々《しま／＼》と云...</td>\n",
       "      <td>1</td>\n",
       "    </tr>\n",
       "    <tr>\n",
       "      <th>7</th>\n",
       "      <td>\\r\\n\\r\\n　或る田舎に母と子とが住んでいた。そして或る年の秋、次のようなことがあった。...</td>\n",
       "      <td>0</td>\n",
       "    </tr>\n",
       "  </tbody>\n",
       "</table>\n",
       "</div>"
      ],
      "text/plain": [
       "                                                         body  author\n",
       "writing_id                                                           \n",
       "0           \\r\\n　先ごろの本欄に僕の「風報」にかいた「天皇陛下に捧ぐる言葉」を評して俗うけを狙った媚...       0\n",
       "1           \\r\\n　旅の眼に映じた外国の正月をといふお需めで、一昔前の記憶から探してみたが、其処にはほ...       0\n",
       "2           \\r\\n　或る心持のよい夕方、日比谷公園の樹の繁みの間で、若葉楓の梢を眺めていたら、どこから...       0\n",
       "3           \\r\\n\\r\\n［＃３字下げ］一［＃「一」は中見出し］\\r\\n\\r\\n　島々《しま／＼》と云...       1\n",
       "7           \\r\\n\\r\\n　或る田舎に母と子とが住んでいた。そして或る年の秋、次のようなことがあった。...       0"
      ]
     },
     "execution_count": 23,
     "metadata": {},
     "output_type": "execute_result"
    }
   ],
   "source": [
    "train_df.head()"
   ]
  },
  {
   "cell_type": "markdown",
   "id": "3457a2a6",
   "metadata": {},
   "source": [
    "## 0.3.簡単な分析\n",
    "それぞれの文章の長さにはブレはあるのか"
   ]
  },
  {
   "cell_type": "code",
   "execution_count": 25,
   "id": "f76eafc1",
   "metadata": {},
   "outputs": [],
   "source": [
    "train_df['body_len'] = train_df['body'].apply(lambda x: len(x))"
   ]
  },
  {
   "cell_type": "code",
   "execution_count": 26,
   "id": "5777bada",
   "metadata": {},
   "outputs": [
    {
     "data": {
      "text/html": [
       "<div>\n",
       "<style scoped>\n",
       "    .dataframe tbody tr th:only-of-type {\n",
       "        vertical-align: middle;\n",
       "    }\n",
       "\n",
       "    .dataframe tbody tr th {\n",
       "        vertical-align: top;\n",
       "    }\n",
       "\n",
       "    .dataframe thead th {\n",
       "        text-align: right;\n",
       "    }\n",
       "</style>\n",
       "<table border=\"1\" class=\"dataframe\">\n",
       "  <thead>\n",
       "    <tr style=\"text-align: right;\">\n",
       "      <th></th>\n",
       "      <th>body</th>\n",
       "      <th>author</th>\n",
       "      <th>body_len</th>\n",
       "    </tr>\n",
       "    <tr>\n",
       "      <th>writing_id</th>\n",
       "      <th></th>\n",
       "      <th></th>\n",
       "      <th></th>\n",
       "    </tr>\n",
       "  </thead>\n",
       "  <tbody>\n",
       "    <tr>\n",
       "      <th>0</th>\n",
       "      <td>\\r\\n　先ごろの本欄に僕の「風報」にかいた「天皇陛下に捧ぐる言葉」を評して俗うけを狙った媚...</td>\n",
       "      <td>0</td>\n",
       "      <td>679</td>\n",
       "    </tr>\n",
       "    <tr>\n",
       "      <th>1</th>\n",
       "      <td>\\r\\n　旅の眼に映じた外国の正月をといふお需めで、一昔前の記憶から探してみたが、其処にはほ...</td>\n",
       "      <td>0</td>\n",
       "      <td>1380</td>\n",
       "    </tr>\n",
       "    <tr>\n",
       "      <th>2</th>\n",
       "      <td>\\r\\n　或る心持のよい夕方、日比谷公園の樹の繁みの間で、若葉楓の梢を眺めていたら、どこから...</td>\n",
       "      <td>0</td>\n",
       "      <td>502</td>\n",
       "    </tr>\n",
       "    <tr>\n",
       "      <th>3</th>\n",
       "      <td>\\r\\n\\r\\n［＃３字下げ］一［＃「一」は中見出し］\\r\\n\\r\\n　島々《しま／＼》と云...</td>\n",
       "      <td>1</td>\n",
       "      <td>4476</td>\n",
       "    </tr>\n",
       "    <tr>\n",
       "      <th>7</th>\n",
       "      <td>\\r\\n\\r\\n　或る田舎に母と子とが住んでいた。そして或る年の秋、次のようなことがあった。...</td>\n",
       "      <td>0</td>\n",
       "      <td>4408</td>\n",
       "    </tr>\n",
       "  </tbody>\n",
       "</table>\n",
       "</div>"
      ],
      "text/plain": [
       "                                                         body  author  \\\n",
       "writing_id                                                              \n",
       "0           \\r\\n　先ごろの本欄に僕の「風報」にかいた「天皇陛下に捧ぐる言葉」を評して俗うけを狙った媚...       0   \n",
       "1           \\r\\n　旅の眼に映じた外国の正月をといふお需めで、一昔前の記憶から探してみたが、其処にはほ...       0   \n",
       "2           \\r\\n　或る心持のよい夕方、日比谷公園の樹の繁みの間で、若葉楓の梢を眺めていたら、どこから...       0   \n",
       "3           \\r\\n\\r\\n［＃３字下げ］一［＃「一」は中見出し］\\r\\n\\r\\n　島々《しま／＼》と云...       1   \n",
       "7           \\r\\n\\r\\n　或る田舎に母と子とが住んでいた。そして或る年の秋、次のようなことがあった。...       0   \n",
       "\n",
       "            body_len  \n",
       "writing_id            \n",
       "0                679  \n",
       "1               1380  \n",
       "2                502  \n",
       "3               4476  \n",
       "7               4408  "
      ]
     },
     "execution_count": 26,
     "metadata": {},
     "output_type": "execute_result"
    }
   ],
   "source": [
    "train_df.head()"
   ]
  },
  {
   "cell_type": "code",
   "execution_count": 29,
   "id": "00031530",
   "metadata": {},
   "outputs": [
    {
     "data": {
      "text/plain": [
       "[<matplotlib.lines.Line2D at 0x17a0605e0>]"
      ]
     },
     "execution_count": 29,
     "metadata": {},
     "output_type": "execute_result"
    },
    {
     "data": {
      "image/png": "[encoded data removed]",
      "text/plain": [
       "<Figure size 640x480 with 1 Axes>"
      ]
     },
     "metadata": {},
     "output_type": "display_data"
    }
   ],
   "source": [
    "plt.plot(train_df['body_len'])"
   ]
  },
  {
   "cell_type": "code",
   "execution_count": 33,
   "id": "1f299312",
   "metadata": {},
   "outputs": [
    {
     "data": {
      "image/png": "[encoded data removed]",
      "text/plain": [
       "<Figure size 563.5x500 with 1 Axes>"
      ]
     },
     "metadata": {},
     "output_type": "display_data"
    }
   ],
   "source": [
    "# catplotを使用してクラスごとにグラフを描画\n",
    "sns.set(style=\"darkgrid\")\n",
    "g = sns.catplot(data=train_df, x='writing_id', y='body_len', hue='author')\n",
    "\n",
    "# グラフのタイトルなどを設定\n",
    "g.set(title='Scatter Plot for Binary Classification')\n",
    "plt.show()"
   ]
  },
  {
   "cell_type": "markdown",
   "id": "e7d5002e",
   "metadata": {},
   "source": [
    "# 1.簡易モデル作成"
   ]
  },
  {
   "cell_type": "code",
   "execution_count": 34,
   "id": "dd52e612",
   "metadata": {},
   "outputs": [],
   "source": [
    "import pandas as pd\n",
    "from sklearn.model_selection import train_test_split\n",
    "from sklearn.feature_extraction.text import TfidfVectorizer\n",
    "from sklearn.linear_model import LogisticRegression\n",
    "from sklearn.metrics import accuracy_score, classification_report"
   ]
  },
  {
   "cell_type": "code",
   "execution_count": 72,
   "id": "cba3cf34",
   "metadata": {},
   "outputs": [
    {
     "name": "stdout",
     "output_type": "stream",
     "text": [
      "Accuracy: 0.9532428355957768\n",
      "              precision    recall  f1-score   support\n",
      "\n",
      "           0       0.95      1.00      0.98       616\n",
      "           1       1.00      0.34      0.51        47\n",
      "\n",
      "    accuracy                           0.95       663\n",
      "   macro avg       0.98      0.67      0.74       663\n",
      "weighted avg       0.96      0.95      0.94       663\n",
      "\n"
     ]
    }
   ],
   "source": [
    "# データを読み込み\n",
    "data = train_df  # データの読み込み方法はデータの形式に応じて変更してください\n",
    "\n",
    "# 特徴エンジニアリング: TF-IDF特徴量の生成\n",
    "tfidf_vectorizer = TfidfVectorizer(max_features=5000)\n",
    "X = tfidf_vectorizer.fit_transform(data['body'])\n",
    "\n",
    "# ターゲット変数の作成\n",
    "y = data['author']\n",
    "\n",
    "# データをトレーニングセットとテストセットに分割\n",
    "X_train, X_test, y_train, y_test = train_test_split(X, y, test_size=0.2, random_state=42)\n",
    "\n",
    "# ロジスティック回帰モデルをトレーニング\n",
    "model = LogisticRegression()\n",
    "model.fit(X_train, y_train)\n",
    "\n",
    "# モデルの評価\n",
    "y_pred = model.predict(X_test)\n",
    "accuracy = accuracy_score(y_test, y_pred)\n",
    "report = classification_report(y_test, y_pred)\n",
    "\n",
    "print(f'Accuracy: {accuracy}')\n",
    "print(report)"
   ]
  },
  {
   "cell_type": "markdown",
   "id": "f5660fa0",
   "metadata": {},
   "source": [
    "# 2.予測"
   ]
  },
  {
   "cell_type": "code",
   "execution_count": 74,
   "id": "74e209fd",
   "metadata": {},
   "outputs": [],
   "source": [
    "# テストデータの読み込み（データの読み込み方法はデータの形式に合わせて変更してください）\n",
    "test_data = test_df  # テストデータの読み込み方法\n",
    "\n",
    "# TF-IDF変換\n",
    "X_submit = tfidf_vectorizer.transform(test_data['body'])\n",
    "\n",
    "# 予測\n",
    "predictions = model.predict(X_submit)"
   ]
  },
  {
   "cell_type": "code",
   "execution_count": 77,
   "id": "ffedf291",
   "metadata": {},
   "outputs": [
    {
     "data": {
      "text/plain": [
       "44"
      ]
     },
     "execution_count": 77,
     "metadata": {},
     "output_type": "execute_result"
    }
   ],
   "source": [
    "sum(predictions)"
   ]
  },
  {
   "cell_type": "markdown",
   "id": "1645ddd3",
   "metadata": {},
   "source": [
    "# 3.提出"
   ]
  },
  {
   "cell_type": "code",
   "execution_count": 78,
   "id": "bc24c916",
   "metadata": {},
   "outputs": [],
   "source": [
    "sample_sub_df['author'] = predictions"
   ]
  },
  {
   "cell_type": "code",
   "execution_count": 79,
   "id": "7e66d027",
   "metadata": {},
   "outputs": [
    {
     "data": {
      "text/plain": [
       "44"
      ]
     },
     "execution_count": 79,
     "metadata": {},
     "output_type": "execute_result"
    }
   ],
   "source": [
    "sample_sub_df['author'].sum()"
   ]
  },
  {
   "cell_type": "code",
   "execution_count": 80,
   "id": "f34f05e9",
   "metadata": {},
   "outputs": [],
   "source": [
    "sample_sub_df.to_csv('submission_file/tfdf_ver2.csv')"
   ]
  },
  {
   "cell_type": "code",
   "execution_count": null,
   "id": "ecc0ed5a",
   "metadata": {},
   "outputs": [],
   "source": []
  }
 ],
 "metadata": {
  "kernelspec": {
   "display_name": "Python 3 (ipykernel)",
   "language": "python",
   "name": "python3"
  },
  "language_info": {
   "codemirror_mode": {
    "name": "ipython",
    "version": 3
   },
   "file_extension": ".py",
   "mimetype": "text/x-python",
   "name": "python",
   "nbconvert_exporter": "python",
   "pygments_lexer": "ipython3",
   "version": "3.10.10"
  }
 },
 "nbformat": 4,
 "nbformat_minor": 5
}
